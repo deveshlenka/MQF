{
 "cells": [
  {
   "cell_type": "markdown",
   "id": "2c8d61ed",
   "metadata": {},
   "source": [
    "### `Implied Volatility Smile`"
   ]
  },
  {
   "cell_type": "code",
   "execution_count": 1,
   "id": "7deaa186",
   "metadata": {},
   "outputs": [],
   "source": [
    "import numpy as np\n",
    "import pandas as pd\n",
    "\n",
    "import matplotlib as mpl\n",
    "\n",
    "from pandas_datareader import data as pdr\n",
    "\n",
    "import datetime as dt\n",
    "import yfinance as yf\n",
    "\n",
    "from scipy.stats import norm\n",
    "from scipy.optimize import brentq\n",
    "import matplotlib.pylab as plt\n",
    "from scipy.optimize import least_squares\n",
    "from scipy import interpolate\n"
   ]
  },
  {
   "cell_type": "code",
   "execution_count": 2,
   "id": "e9a19a90",
   "metadata": {},
   "outputs": [],
   "source": [
    "# define balck-scholes model\n",
    "def BlackScholesLognormalCall(S, K, r, sigma, T):\n",
    "    d1 = (np.log(S/K)+(r+sigma**2/2)*T) / (sigma*np.sqrt(T))\n",
    "    d2 = d1 - sigma*np.sqrt(T)\n",
    "    return S*norm.cdf(d1) - K*np.exp(-r*T)*norm.cdf(d2)\n",
    "\n",
    "\n",
    "def BlackScholesLognormalPut(S, K, r, sigma, T):\n",
    "    d1 = (np.log(S/K)+(r+sigma**2/2)*T) / (sigma*np.sqrt(T))\n",
    "    d2 = d1 - sigma*np.sqrt(T)\n",
    "    return K*np.exp(-r*T)*norm.cdf(-d2) - S*norm.cdf(-d1)\n"
   ]
  },
  {
   "cell_type": "code",
   "execution_count": 3,
   "id": "41c914e8",
   "metadata": {},
   "outputs": [],
   "source": [
    "SPX = pd.read_csv(\"SPX_options.csv\")\n",
    "zero_rate = pd.read_csv(\"zero_rates_20201201.csv\")"
   ]
  },
  {
   "cell_type": "code",
   "execution_count": 4,
   "id": "ed97d387",
   "metadata": {},
   "outputs": [],
   "source": [
    "df = pd.DataFrame()"
   ]
  },
  {
   "cell_type": "code",
   "execution_count": 5,
   "id": "5eca4676",
   "metadata": {},
   "outputs": [],
   "source": [
    "SPX[\"date\"] = pd.to_datetime(SPX.date, format=\"%Y%m%d\")\n",
    "SPX[\"exdate\"] = pd.to_datetime(SPX.exdate, format=\"%Y%m%d\")"
   ]
  },
  {
   "cell_type": "code",
   "execution_count": 6,
   "id": "a0107d43",
   "metadata": {},
   "outputs": [],
   "source": [
    "# getting time periods\n",
    "SPX[\"Time\"] = (SPX.exdate - SPX.date).dt.days"
   ]
  },
  {
   "cell_type": "code",
   "execution_count": 7,
   "id": "972cced8",
   "metadata": {},
   "outputs": [],
   "source": [
    "# interpolate for rates\n",
    "x = zero_rate['days']\n",
    "y = zero_rate['rate']\n",
    "y_inter = interpolate.interp1d(x,y)\n",
    "\n",
    "SPX[\"rate\"] = y_inter(SPX[\"Time\"])/100"
   ]
  },
  {
   "cell_type": "code",
   "execution_count": 8,
   "id": "f2fcd2be",
   "metadata": {},
   "outputs": [],
   "source": [
    "# define implied vol funtion under black scholes model\n",
    "def impliedVolatility(S, K, r, price, T, payoff):\n",
    "    try:\n",
    "        if (payoff == 'C'):\n",
    "            impliedVol = brentq(lambda x: price -\n",
    "                                BlackScholesLognormalCall(S, K, r, x, T),\n",
    "                                1e-12, 10.0)\n",
    "        elif (payoff == 'P'):\n",
    "            impliedVol = brentq(lambda x: price -\n",
    "                                BlackScholesLognormalPut(S, K, r, x, T),\n",
    "                                1e-12, 10.0)\n",
    "        else:\n",
    "            raise NameError('Payoff type not recognized')\n",
    "    except Exception:\n",
    "        impliedVol = np.nan\n",
    "\n",
    "    return impliedVol\n",
    "\n"
   ]
  },
  {
   "cell_type": "markdown",
   "id": "8ec89147",
   "metadata": {},
   "source": [
    "# Data for `SPX` option"
   ]
  },
  {
   "cell_type": "markdown",
   "id": "18a2129a",
   "metadata": {},
   "source": [
    "### T = 17, 45, 80"
   ]
  },
  {
   "cell_type": "code",
   "execution_count": 9,
   "id": "f9865569",
   "metadata": {},
   "outputs": [],
   "source": [
    "SPX_S = 3662.45"
   ]
  },
  {
   "cell_type": "code",
   "execution_count": 10,
   "id": "8f1a5267",
   "metadata": {},
   "outputs": [],
   "source": [
    "# forward prices for each time period\n",
    "SPX_F17 = np.exp(SPX[\"rate\"].unique()[0]*17/365)* SPX_S\n",
    "SPX_F45 = np.exp(SPX[\"rate\"].unique()[1]*45/365)* SPX_S\n",
    "SPX_F80 = np.exp(SPX[\"rate\"].unique()[2]*80/365)* SPX_S"
   ]
  },
  {
   "cell_type": "code",
   "execution_count": 11,
   "id": "daba0401",
   "metadata": {},
   "outputs": [
    {
     "name": "stderr",
     "output_type": "stream",
     "text": [
      "/var/folders/d0/wlsqxrb928v8l7k86q57sjcr0000gn/T/ipykernel_75527/2527777829.py:4: SettingWithCopyWarning: \n",
      "A value is trying to be set on a copy of a slice from a DataFrame.\n",
      "Try using .loc[row_indexer,col_indexer] = value instead\n",
      "\n",
      "See the caveats in the documentation: https://pandas.pydata.org/pandas-docs/stable/user_guide/indexing.html#returning-a-view-versus-a-copy\n",
      "  T_17[\"mid_price\"] = (T_17[\"best_bid\"] + T_17[\"best_offer\"])/2\n",
      "/var/folders/d0/wlsqxrb928v8l7k86q57sjcr0000gn/T/ipykernel_75527/2527777829.py:9: SettingWithCopyWarning: \n",
      "A value is trying to be set on a copy of a slice from a DataFrame.\n",
      "Try using .loc[row_indexer,col_indexer] = value instead\n",
      "\n",
      "See the caveats in the documentation: https://pandas.pydata.org/pandas-docs/stable/user_guide/indexing.html#returning-a-view-versus-a-copy\n",
      "  T_45[\"mid_price\"] = (T_45[\"best_bid\"] + T_45[\"best_offer\"])/2\n",
      "/var/folders/d0/wlsqxrb928v8l7k86q57sjcr0000gn/T/ipykernel_75527/2527777829.py:14: SettingWithCopyWarning: \n",
      "A value is trying to be set on a copy of a slice from a DataFrame.\n",
      "Try using .loc[row_indexer,col_indexer] = value instead\n",
      "\n",
      "See the caveats in the documentation: https://pandas.pydata.org/pandas-docs/stable/user_guide/indexing.html#returning-a-view-versus-a-copy\n",
      "  T_80[\"mid_price\"] = (T_80[\"best_bid\"] + T_80[\"best_offer\"])/2\n"
     ]
    }
   ],
   "source": [
    "# data for each time period\n",
    "\n",
    "T_17 = SPX[SPX.Time == 17]\n",
    "T_17[\"mid_price\"] = (T_17[\"best_bid\"] + T_17[\"best_offer\"])/2\n",
    "C_17 = T_17[T_17.cp_flag == \"C\"]\n",
    "P_17 = T_17[T_17.cp_flag == \"P\"]\n",
    "\n",
    "T_45 = SPX[SPX.Time == 45]\n",
    "T_45[\"mid_price\"] = (T_45[\"best_bid\"] + T_45[\"best_offer\"])/2\n",
    "C_45 = T_45[T_45.cp_flag == \"C\"]\n",
    "P_45 = T_45[T_45.cp_flag == \"P\"]\n",
    "\n",
    "T_80 = SPX[SPX.Time == 80]\n",
    "T_80[\"mid_price\"] = (T_80[\"best_bid\"] + T_80[\"best_offer\"])/2\n",
    "C_80 = T_80[T_80.cp_flag == \"C\"]\n",
    "P_80 = T_80[T_80.cp_flag == \"P\"]"
   ]
  },
  {
   "cell_type": "code",
   "execution_count": 12,
   "id": "fa10da6f",
   "metadata": {},
   "outputs": [],
   "source": [
    "df_P17 = P_17[P_17.strike_price/1000 < SPX_F17][[\"cp_flag\", \"strike_price\", \"best_offer\",\"rate\",\"mid_price\"]]\n",
    "df_C17 = C_17[C_17.strike_price/1000 > SPX_F17][[\"cp_flag\", \"strike_price\", \"best_offer\",\"rate\",\"mid_price\"]]\n",
    "\n",
    "df_P45 = P_45[P_45.strike_price/1000 < SPX_F45][[\"cp_flag\", \"strike_price\", \"best_offer\",\"rate\",\"mid_price\"]]\n",
    "df_C45 = C_45[C_45.strike_price/1000 > SPX_F45][[\"cp_flag\", \"strike_price\", \"best_offer\",\"rate\",\"mid_price\"]]\n",
    "\n",
    "df_P80 = P_80[P_80.strike_price/1000 < SPX_F80][[\"cp_flag\", \"strike_price\", \"best_offer\",\"rate\",\"mid_price\"]]\n",
    "df_C80 = C_80[C_80.strike_price/1000 > SPX_F80][[\"cp_flag\", \"strike_price\", \"best_offer\",\"rate\",\"mid_price\"]]"
   ]
  },
  {
   "cell_type": "code",
   "execution_count": 13,
   "id": "e111c80a",
   "metadata": {},
   "outputs": [],
   "source": [
    "df_17 = pd.concat([df_P17, df_C17], ignore_index=True)\n",
    "df_17.strike_price = df_17.strike_price/1000\n",
    "\n",
    "df_45 = pd.concat([df_P45, df_C45], ignore_index=True)\n",
    "df_45.strike_price = df_45.strike_price/1000\n",
    "\n",
    "df_80 = pd.concat([df_P80, df_C80], ignore_index=True)\n",
    "df_80.strike_price = df_80.strike_price/1000"
   ]
  },
  {
   "cell_type": "code",
   "execution_count": 14,
   "id": "bdb572b8",
   "metadata": {},
   "outputs": [],
   "source": [
    "IV_17 = []\n",
    "r_17 = SPX[\"rate\"].unique()[0]\n",
    "T_17 = 17/365\n",
    "\n",
    "IV_45 = []\n",
    "r_45 = SPX[\"rate\"].unique()[1]\n",
    "T_45 = 45/365\n",
    "\n",
    "IV_80 = []\n",
    "r_80 = SPX[\"rate\"].unique()[2]\n",
    "T_80 = 80/365"
   ]
  },
  {
   "cell_type": "code",
   "execution_count": 15,
   "id": "3fe66c78",
   "metadata": {},
   "outputs": [],
   "source": [
    "# implied vol for t= 17\n",
    "\n",
    "for i in range(0,len(df_17)):\n",
    "    IV_17.append(impliedVolatility(SPX_S, df_17.strike_price[i], r_17, df_17.mid_price[i], T_17, df_17.cp_flag[i]))\n",
    "    "
   ]
  },
  {
   "cell_type": "code",
   "execution_count": 16,
   "id": "d1f7373a",
   "metadata": {},
   "outputs": [],
   "source": [
    "# implied vol for t= 45\n",
    "\n",
    "for i in range(0,len(df_45)):\n",
    "    IV_45.append(impliedVolatility(SPX_S, df_45.strike_price[i], r_45, df_45.mid_price[i], T_45, df_45.cp_flag[i]))"
   ]
  },
  {
   "cell_type": "code",
   "execution_count": 17,
   "id": "59e44faf",
   "metadata": {},
   "outputs": [],
   "source": [
    "# implied vol for t= 80\n",
    "\n",
    "for i in range(0,len(df_80)):\n",
    "    IV_80.append(impliedVolatility(SPX_S, df_80.strike_price[i], r_80, df_80.mid_price[i], T_80, df_80.cp_flag[i]))"
   ]
  },
  {
   "cell_type": "code",
   "execution_count": 18,
   "id": "4ba90393",
   "metadata": {},
   "outputs": [],
   "source": [
    "df_17[\"IV\"] = IV_17\n",
    "df_45[\"IV\"] = IV_45\n",
    "df_80[\"IV\"] = IV_80"
   ]
  },
  {
   "cell_type": "code",
   "execution_count": 19,
   "id": "3f335db5",
   "metadata": {},
   "outputs": [
    {
     "data": {
      "text/plain": [
       "<matplotlib.legend.Legend at 0x7f7fb825ffa0>"
      ]
     },
     "execution_count": 19,
     "metadata": {},
     "output_type": "execute_result"
    },
    {
     "data": {
      "image/png": "[encoded data removed]",
      "text/plain": [
       "<Figure size 576x432 with 1 Axes>"
      ]
     },
     "metadata": {
      "needs_background": "light"
     },
     "output_type": "display_data"
    }
   ],
   "source": [
    "# volatility smile for market data\n",
    "\n",
    "plt.figure(figsize = (8,6), tight_layout = True)\n",
    "plt.plot(df_17[\"strike_price\"], df_17[\"IV\"], 'gs', label= \"17 DAYS\")\n",
    "plt.plot(df_45[\"strike_price\"], df_45[\"IV\"], 'bs', label= \"45 DAYS\")\n",
    "plt.plot(df_80[\"strike_price\"], df_80[\"IV\"], 'rs', label= \"80 DAYS\")\n",
    "plt.ylabel(\"Implied Vol\")\n",
    "plt.xlabel(\"Strike\")\n",
    "plt.legend()\n"
   ]
  },
  {
   "cell_type": "markdown",
   "id": "e9535af7",
   "metadata": {},
   "source": [
    "## Diffused diffusion model calibration for SPX data"
   ]
  },
  {
   "cell_type": "code",
   "execution_count": 20,
   "id": "a7961e25",
   "metadata": {},
   "outputs": [],
   "source": [
    "# define model\n",
    "\n",
    "def DisplacedDiffusion_Call(S, K, r, sigma, T, beta):\n",
    "    F = np.exp(r*T)*S\n",
    "    d1 = (np.log(F/(F+beta*(K-F)))+(beta*sigma)**2/2*T) / (beta*sigma*np.sqrt(T))\n",
    "    d2 = d1 - beta*sigma*np.sqrt(T)\n",
    "    return np.exp(-r*T)*(F/beta*norm.cdf(d1) - ((1-beta)/beta*F + K)*norm.cdf(d2))\n",
    "\n",
    "def DisplacedDiffusion_Put(S, K, r, sigma, T, beta):\n",
    "    F = np.exp(r*T)*S\n",
    "    d1 = (np.log(F/(F+beta*(K-F)))+(beta*sigma)**2/2*T) / (beta*sigma*np.sqrt(T))\n",
    "    d2 = d1 - beta*sigma*np.sqrt(T)\n",
    "    return np.exp(-r*T)*(((1-beta)/beta*F + K)*norm.cdf(-d2) - F/beta*norm.cdf(-d1))\n",
    "\n",
    "\n",
    "def DisplacedDiffusion(S, K, r, sigma, T, beta, payoff):\n",
    "    if (payoff == 'C'):\n",
    "        DisplacedDiffusion_Call(S, K, r, sigma, T, beta)\n",
    "        \n",
    "    elif (payoff == 'P'):\n",
    "        DisplacedDiffusion_Put(S, K, r, sigma, T, beta)\n"
   ]
  },
  {
   "cell_type": "code",
   "execution_count": 21,
   "id": "b7512d4a",
   "metadata": {},
   "outputs": [],
   "source": [
    "# define calibration\n",
    "\n",
    "def diffusedcalibration(x, strikes, prices, S, r, T, payoff):\n",
    "    err = 0.0\n",
    "    for i, prices in enumerate(prices):\n",
    "        if (payoff[i] == \"C\"):\n",
    "            err += (prices -  DisplacedDiffusion_Call(S, strikes[i], r, x[0], T, x[1]))**2\n",
    "        \n",
    "        elif (payoff[i] == 'P'):\n",
    "            err += (prices -  DisplacedDiffusion_Put(S, strikes[i], r, x[0], T, x[1]))**2\n",
    "    return err"
   ]
  },
  {
   "cell_type": "code",
   "execution_count": 22,
   "id": "207e7d9d",
   "metadata": {},
   "outputs": [
    {
     "name": "stdout",
     "output_type": "stream",
     "text": [
      "Calibrated DDM model parameters: sigma = 0.183446, beta = 0.173406\n"
     ]
    }
   ],
   "source": [
    "# calibration for t = 17\n",
    "\n",
    "initialGuess = [0.1, 0.2]\n",
    "\n",
    "res = least_squares(lambda x: diffusedcalibration(x,\n",
    "                                             df_17[\"strike_price\"],\n",
    "                                             df_17[\"mid_price\"],\n",
    "                                             SPX_S,\n",
    "                                             r_17,\n",
    "                                             17/365,\n",
    "                                             df_17[\"cp_flag\"].values),\n",
    "                    initialGuess)\n",
    "\n",
    "s_ddm = res.x[0]\n",
    "b_ddm = res.x[1]\n",
    "\n",
    "print('Calibrated DDM model parameters: sigma = %.6f, beta = %.6f' % (s_ddm, b_ddm))"
   ]
  },
  {
   "cell_type": "code",
   "execution_count": 23,
   "id": "d5983cb9",
   "metadata": {},
   "outputs": [
    {
     "data": {
      "image/png": "[encoded data removed]",
      "text/plain": [
       "<Figure size 576x432 with 1 Axes>"
      ]
     },
     "metadata": {
      "needs_background": "light"
     },
     "output_type": "display_data"
    }
   ],
   "source": [
    "# vol smile for t = 17\n",
    "\n",
    "ddmvols = []\n",
    "for i in range(len(df_17)):\n",
    "    \n",
    "    if (df_17[\"cp_flag\"][i] == \"C\"):\n",
    "        price_ddm = DisplacedDiffusion_Call(SPX_S, df_17[\"strike_price\"][i], r_17, s_ddm, T_17, b_ddm) \n",
    "        vol_ddm = impliedVolatility(SPX_S, df_17[\"strike_price\"][i], r_17, price_ddm, T_17, \"C\")\n",
    "        \n",
    "    elif (df_17[\"cp_flag\"][i] == \"P\"):\n",
    "        price_ddm = DisplacedDiffusion_Put(SPX_S, df_17[\"strike_price\"][i], r_17, s_ddm, T_17, b_ddm) \n",
    "        vol_ddm = impliedVolatility(SPX_S, df_17[\"strike_price\"][i], r_17, price_ddm, T_17, \"P\")\n",
    "        \n",
    "    \n",
    "    ddmvols.append(vol_ddm)\n",
    "\n",
    "plt.figure(figsize = (8,6), tight_layout = True)\n",
    "plt.plot(df_17[\"strike_price\"], df_17[\"IV\"], 'gs', label='Market Vols')\n",
    "plt.plot(df_17[\"strike_price\"], ddmvols, 'b--', label='Displaced Diffusion Model Vols')\n",
    "plt.ylabel(\"Implied Vol\")\n",
    "plt.xlabel(\"Strike\")\n",
    "plt.legend()\n",
    "plt.show()"
   ]
  },
  {
   "cell_type": "code",
   "execution_count": 24,
   "id": "cece4662",
   "metadata": {},
   "outputs": [
    {
     "name": "stdout",
     "output_type": "stream",
     "text": [
      "Calibrated DDM model parameters: sigma = 0.194903, beta = 0.143831\n"
     ]
    }
   ],
   "source": [
    "# calibration for t = 45\n",
    "\n",
    "initialGuess = [0.1, 0.2]\n",
    "\n",
    "res = least_squares(lambda x: diffusedcalibration(x,\n",
    "                                             df_45[\"strike_price\"],\n",
    "                                             df_45[\"mid_price\"],\n",
    "                                             SPX_S,\n",
    "                                             r_45,\n",
    "                                             45/365,\n",
    "                                             df_45[\"cp_flag\"].values),\n",
    "                    initialGuess)\n",
    "\n",
    "s_ddm = res.x[0]\n",
    "b_ddm = res.x[1]\n",
    "\n",
    "print('Calibrated DDM model parameters: sigma = %.6f, beta = %.6f' % (s_ddm, b_ddm))"
   ]
  },
  {
   "cell_type": "code",
   "execution_count": 25,
   "id": "d5f32a61",
   "metadata": {},
   "outputs": [
    {
     "data": {
      "image/png": "[encoded data removed]",
      "text/plain": [
       "<Figure size 576x432 with 1 Axes>"
      ]
     },
     "metadata": {
      "needs_background": "light"
     },
     "output_type": "display_data"
    }
   ],
   "source": [
    "# vol smile for t = 45\n",
    "\n",
    "ddmvols = []\n",
    "for i in range(len(df_45)):\n",
    "    \n",
    "    if (df_45[\"cp_flag\"][i] == \"C\"):\n",
    "        price_ddm = DisplacedDiffusion_Call(SPX_S, df_45[\"strike_price\"][i], r_45, s_ddm, T_45, b_ddm) \n",
    "        vol_ddm = impliedVolatility(SPX_S, df_45[\"strike_price\"][i], r_45, price_ddm, T_45, \"C\")\n",
    "        \n",
    "    elif (df_45[\"cp_flag\"][i] == \"P\"):\n",
    "        price_ddm = DisplacedDiffusion_Put(SPX_S, df_45[\"strike_price\"][i], r_45, s_ddm, T_45, b_ddm) \n",
    "        vol_ddm = impliedVolatility(SPX_S, df_45[\"strike_price\"][i], r_45, price_ddm, T_45, \"P\")\n",
    "        \n",
    "    \n",
    "    ddmvols.append(vol_ddm)\n",
    "\n",
    "plt.figure(figsize = (8,6), tight_layout = True)\n",
    "plt.plot(df_45[\"strike_price\"], df_45[\"IV\"], 'bs', label='Market Vols')\n",
    "plt.plot(df_45[\"strike_price\"], ddmvols, 'b--', label='Displaced Diffusion Model Vols')\n",
    "plt.ylabel(\"Implied Vol\")\n",
    "plt.xlabel(\"Strike\")\n",
    "plt.legend()\n",
    "plt.show()"
   ]
  },
  {
   "cell_type": "code",
   "execution_count": 26,
   "id": "9f1beb57",
   "metadata": {},
   "outputs": [
    {
     "name": "stdout",
     "output_type": "stream",
     "text": [
      "Calibrated DDM model parameters: sigma = 0.201396, beta = 0.111717\n"
     ]
    }
   ],
   "source": [
    "# calibration for t = 45\n",
    "\n",
    "initialGuess = [0.1, 0.2]\n",
    "\n",
    "res = least_squares(lambda x: diffusedcalibration(x,\n",
    "                                             df_80[\"strike_price\"],\n",
    "                                             df_80[\"mid_price\"],\n",
    "                                             SPX_S,\n",
    "                                             r_80,\n",
    "                                             80/365,\n",
    "                                             df_80[\"cp_flag\"].values),\n",
    "                    initialGuess)\n",
    "\n",
    "s_ddm = res.x[0]\n",
    "b_ddm = res.x[1]\n",
    "\n",
    "print('Calibrated DDM model parameters: sigma = %.6f, beta = %.6f' % (s_ddm, b_ddm))"
   ]
  },
  {
   "cell_type": "code",
   "execution_count": 27,
   "id": "50116f91",
   "metadata": {},
   "outputs": [
    {
     "data": {
      "image/png": "[encoded data removed]",
      "text/plain": [
       "<Figure size 576x432 with 1 Axes>"
      ]
     },
     "metadata": {
      "needs_background": "light"
     },
     "output_type": "display_data"
    }
   ],
   "source": [
    "# vol smile for t = 45\n",
    "\n",
    "ddmvols = []\n",
    "for i in range(len(df_80)):\n",
    "    \n",
    "    if (df_80[\"cp_flag\"][i] == \"C\"):\n",
    "        price_ddm = DisplacedDiffusion_Call(SPX_S, df_80[\"strike_price\"][i], r_80, s_ddm, T_80, b_ddm) \n",
    "        vol_ddm = impliedVolatility(SPX_S, df_80[\"strike_price\"][i], r_80, price_ddm, T_80, \"C\")\n",
    "        \n",
    "    elif (df_80[\"cp_flag\"][i] == \"P\"):\n",
    "        price_ddm = DisplacedDiffusion_Put(SPX_S, df_80[\"strike_price\"][i], r_80, s_ddm, T_80, b_ddm) \n",
    "        vol_ddm = impliedVolatility(SPX_S, df_80[\"strike_price\"][i], r_80, price_ddm, T_80, \"P\")\n",
    "        \n",
    "    \n",
    "    ddmvols.append(vol_ddm)\n",
    "\n",
    "plt.figure(figsize = (8,6), tight_layout = True)\n",
    "plt.plot(df_80[\"strike_price\"], df_80[\"IV\"], 'rs', label='Market Vols')\n",
    "plt.plot(df_80[\"strike_price\"], ddmvols, 'b--', label='Displaced Diffusion Model Vols')\n",
    "plt.ylabel(\"Implied Vol\")\n",
    "plt.xlabel(\"Strike\")\n",
    "plt.legend()\n",
    "plt.show()"
   ]
  },
  {
   "cell_type": "markdown",
   "id": "9755470e",
   "metadata": {},
   "source": [
    "## SABR model for SPX data"
   ]
  },
  {
   "cell_type": "code",
   "execution_count": 28,
   "id": "56dc4341",
   "metadata": {},
   "outputs": [],
   "source": [
    "# define model\n",
    "\n",
    "def SABR(F, K, T, alpha, beta, rho, nu):\n",
    "    X = K\n",
    "    # if K is at-the-money-forward\n",
    "    if abs(F - K) < 1e-12:\n",
    "        numer1 = (((1 - beta)**2)/24)*alpha*alpha/(F**(2 - 2*beta))\n",
    "        numer2 = 0.25*rho*beta*nu*alpha/(F**(1 - beta))\n",
    "        numer3 = ((2 - 3*rho*rho)/24)*nu*nu\n",
    "        VolAtm = alpha*(1 + (numer1 + numer2 + numer3)*T)/(F**(1-beta))\n",
    "        sabrsigma = VolAtm\n",
    "    else:\n",
    "        z = (nu/alpha)*((F*X)**(0.5*(1-beta)))*np.log(F/X)\n",
    "        zhi = np.log((((1 - 2*rho*z + z*z)**0.5) + z - rho)/(1 - rho))\n",
    "        numer1 = (((1 - beta)**2)/24)*((alpha*alpha)/((F*X)**(1 - beta)))\n",
    "        numer2 = 0.25*rho*beta*nu*alpha/((F*X)**((1 - beta)/2))\n",
    "        numer3 = ((2 - 3*rho*rho)/24)*nu*nu\n",
    "        numer = alpha*(1 + (numer1 + numer2 + numer3)*T)*z\n",
    "        denom1 = ((1 - beta)**2/24)*(np.log(F/X))**2\n",
    "        denom2 = (((1 - beta)**4)/1920)*((np.log(F/X))**4)\n",
    "        denom = ((F*X)**((1 - beta)/2))*(1 + denom1 + denom2)*zhi\n",
    "        sabrsigma = numer/denom\n",
    "\n",
    "    return sabrsigma"
   ]
  },
  {
   "cell_type": "code",
   "execution_count": 29,
   "id": "c12f5a3c",
   "metadata": {},
   "outputs": [],
   "source": [
    "# define calibration\n",
    "\n",
    "from scipy.optimize import least_squares\n",
    "\n",
    "beta = 0.7\n",
    "\n",
    "def sabrcalibration(x, strikes, vols, F, T):\n",
    "    err = 0.0\n",
    "    for i, vol in enumerate(vols):\n",
    "        err += (vol - SABR(F, strikes[i], T,\n",
    "                           x[0], beta, x[1], x[2]))**2\n",
    "\n",
    "    return err"
   ]
  },
  {
   "cell_type": "code",
   "execution_count": 30,
   "id": "dd687ca3",
   "metadata": {},
   "outputs": [],
   "source": [
    "#sabrcalibration(initialGuess, df.strike_price, df.IV, SPX_F, 17/365)"
   ]
  },
  {
   "cell_type": "code",
   "execution_count": 31,
   "id": "25b72283",
   "metadata": {},
   "outputs": [
    {
     "name": "stderr",
     "output_type": "stream",
     "text": [
      "/var/folders/d0/wlsqxrb928v8l7k86q57sjcr0000gn/T/ipykernel_75527/1833376684.py:14: RuntimeWarning: invalid value encountered in double_scalars\n",
      "  zhi = np.log((((1 - 2*rho*z + z*z)**0.5) + z - rho)/(1 - rho))\n",
      "/var/folders/d0/wlsqxrb928v8l7k86q57sjcr0000gn/T/ipykernel_75527/1833376684.py:14: RuntimeWarning: invalid value encountered in log\n",
      "  zhi = np.log((((1 - 2*rho*z + z*z)**0.5) + z - rho)/(1 - rho))\n"
     ]
    }
   ],
   "source": [
    "# calibration for t = 17\n",
    "\n",
    "initialGuess = [0.02, 0.2, 0.1]\n",
    "res = least_squares(lambda x: sabrcalibration(x,\n",
    "                                              df_17.strike_price,\n",
    "                                              df_17.IV,\n",
    "                                              SPX_F17,\n",
    "                                              T_17),\n",
    "                    initialGuess)"
   ]
  },
  {
   "cell_type": "code",
   "execution_count": 32,
   "id": "9090e970",
   "metadata": {},
   "outputs": [
    {
     "name": "stdout",
     "output_type": "stream",
     "text": [
      "Calibrated SABR model parameters: alpha = 1.212, beta = 0.7, rho = -0.301, nu = 5.460\n"
     ]
    }
   ],
   "source": [
    "# results for t = 17\n",
    "\n",
    "alpha = res.x[0]\n",
    "rho = res.x[1]\n",
    "nu = res.x[2]\n",
    "\n",
    "print('Calibrated SABR model parameters: alpha = %.3f, beta = %.1f, rho = %.3f, nu = %.3f' % (alpha, beta, rho, nu))"
   ]
  },
  {
   "cell_type": "code",
   "execution_count": 33,
   "id": "e5d6ec9f",
   "metadata": {},
   "outputs": [
    {
     "data": {
      "image/png": "[encoded data removed]",
      "text/plain": [
       "<Figure size 576x432 with 1 Axes>"
      ]
     },
     "metadata": {
      "needs_background": "light"
     },
     "output_type": "display_data"
    }
   ],
   "source": [
    "# vol smile for t = 17\n",
    "\n",
    "sabrvols = []\n",
    "for K in df_17.strike_price:\n",
    "    sabrvols.append(SABR(SPX_F17, K, T_17, alpha, beta, rho, nu))\n",
    "\n",
    "plt.figure(figsize = (8,6), tight_layout = True)\n",
    "plt.plot(df_17.strike_price, df_17.IV, 'gs', label='Market Vols')\n",
    "plt.plot(df_17.strike_price, sabrvols, 'm--', label='SABR Vols')\n",
    "plt.ylabel(\"Implied Vol\")\n",
    "plt.xlabel(\"Strike\")\n",
    "plt.legend()\n",
    "plt.show()"
   ]
  },
  {
   "cell_type": "code",
   "execution_count": 34,
   "id": "5df29f95",
   "metadata": {},
   "outputs": [
    {
     "name": "stderr",
     "output_type": "stream",
     "text": [
      "/var/folders/d0/wlsqxrb928v8l7k86q57sjcr0000gn/T/ipykernel_75527/1833376684.py:14: RuntimeWarning: invalid value encountered in log\n",
      "  zhi = np.log((((1 - 2*rho*z + z*z)**0.5) + z - rho)/(1 - rho))\n",
      "/var/folders/d0/wlsqxrb928v8l7k86q57sjcr0000gn/T/ipykernel_75527/1833376684.py:14: RuntimeWarning: invalid value encountered in double_scalars\n",
      "  zhi = np.log((((1 - 2*rho*z + z*z)**0.5) + z - rho)/(1 - rho))\n"
     ]
    }
   ],
   "source": [
    "# calibration for t = 45\n",
    "initialGuess = [0.02, 0.2, 0.1]\n",
    "res = least_squares(lambda x: sabrcalibration(x,\n",
    "                                              df_45.strike_price,\n",
    "                                              df_45.IV,\n",
    "                                              SPX_F45,\n",
    "                                              T_45),\n",
    "                    initialGuess)"
   ]
  },
  {
   "cell_type": "code",
   "execution_count": 35,
   "id": "21539558",
   "metadata": {},
   "outputs": [
    {
     "name": "stdout",
     "output_type": "stream",
     "text": [
      "Calibrated SABR model parameters: alpha = 1.817, beta = 0.7, rho = -0.404, nu = 2.790\n"
     ]
    }
   ],
   "source": [
    "# results for t = 45\n",
    "\n",
    "alpha = res.x[0]\n",
    "rho = res.x[1]\n",
    "nu = res.x[2]\n",
    "\n",
    "print('Calibrated SABR model parameters: alpha = %.3f, beta = %.1f, rho = %.3f, nu = %.3f' % (alpha, beta, rho, nu))"
   ]
  },
  {
   "cell_type": "code",
   "execution_count": 36,
   "id": "dace811b",
   "metadata": {},
   "outputs": [
    {
     "data": {
      "image/png": "[encoded data removed]",
      "text/plain": [
       "<Figure size 576x432 with 1 Axes>"
      ]
     },
     "metadata": {
      "needs_background": "light"
     },
     "output_type": "display_data"
    }
   ],
   "source": [
    "# vol smile for t = 45\n",
    "\n",
    "sabrvols = []\n",
    "for K in df_45.strike_price:\n",
    "    sabrvols.append(SABR(SPX_F45, K, T_45, alpha, beta, rho, nu))\n",
    "\n",
    "plt.figure(figsize = (8,6), tight_layout = True)\n",
    "plt.plot(df_45.strike_price, df_45.IV, 'bs', label='Market Vols')\n",
    "plt.plot(df_45.strike_price, sabrvols, 'm--', label='SABR Vols')\n",
    "plt.ylabel(\"Implied Vol\")\n",
    "plt.xlabel(\"Strike\")\n",
    "plt.legend()\n",
    "plt.show()"
   ]
  },
  {
   "cell_type": "code",
   "execution_count": 37,
   "id": "3c1cb76f",
   "metadata": {},
   "outputs": [],
   "source": [
    "# calibration for t = 80\n",
    "initialGuess = [0.02, 0.2, 0.1]\n",
    "res = least_squares(lambda x: sabrcalibration(x,\n",
    "                                              df_80.strike_price,\n",
    "                                              df_80.IV,\n",
    "                                              SPX_F80,\n",
    "                                              T_80),\n",
    "                    initialGuess)"
   ]
  },
  {
   "cell_type": "code",
   "execution_count": 38,
   "id": "b7806837",
   "metadata": {},
   "outputs": [
    {
     "name": "stdout",
     "output_type": "stream",
     "text": [
      "Calibrated SABR model parameters: alpha = 2.140, beta = 0.7, rho = -0.575, nu = 1.842\n"
     ]
    }
   ],
   "source": [
    "# results for t = 80\n",
    "\n",
    "alpha = res.x[0]\n",
    "rho = res.x[1]\n",
    "nu = res.x[2]\n",
    "\n",
    "print('Calibrated SABR model parameters: alpha = %.3f, beta = %.1f, rho = %.3f, nu = %.3f' % (alpha, beta, rho, nu))"
   ]
  },
  {
   "cell_type": "code",
   "execution_count": 39,
   "id": "1ae160eb",
   "metadata": {},
   "outputs": [
    {
     "data": {
      "image/png": "[encoded data removed]",
      "text/plain": [
       "<Figure size 576x432 with 1 Axes>"
      ]
     },
     "metadata": {
      "needs_background": "light"
     },
     "output_type": "display_data"
    }
   ],
   "source": [
    "# vol smile for t = 80\n",
    "\n",
    "sabrvols = []\n",
    "for K in df_80.strike_price:\n",
    "    sabrvols.append(SABR(SPX_F80, K, T_80, alpha, beta, rho, nu))\n",
    "\n",
    "plt.figure(figsize = (8,6), tight_layout = True)\n",
    "plt.plot(df_80.strike_price, df_80.IV, 'rs', label='Market Vols')\n",
    "plt.plot(df_80.strike_price, sabrvols, 'm--', label='SABR Vols')\n",
    "plt.ylabel(\"Implied Vol\")\n",
    "plt.xlabel(\"Strike\")\n",
    "plt.legend()\n",
    "plt.show()"
   ]
  },
  {
   "cell_type": "code",
   "execution_count": null,
   "id": "7cc63991",
   "metadata": {},
   "outputs": [],
   "source": []
  },
  {
   "cell_type": "code",
   "execution_count": null,
   "id": "886721a5",
   "metadata": {},
   "outputs": [],
   "source": []
  },
  {
   "cell_type": "markdown",
   "id": "c31b4197",
   "metadata": {},
   "source": [
    "# Data for `SPY` option"
   ]
  },
  {
   "cell_type": "code",
   "execution_count": 40,
   "id": "0ff742fb",
   "metadata": {},
   "outputs": [],
   "source": [
    "# Define american and european option binomial\n",
    "\n",
    "import array\n",
    "\n",
    "\n",
    "def american_put(S, K, r, sigma, T, steps):\n",
    "    R = (1+r)**(T/steps)\n",
    "    u = np.exp(sigma*np.sqrt(T/steps))\n",
    "    uu = u*u\n",
    "    d = 1.0/u\n",
    "    p_up = (R-d)/(u-d)\n",
    "    p_down = 1.0-p_up\n",
    "    prices = array.array('d', (0 for i in range(0, steps+1)))\n",
    "    prices[0] = S*pow(d, steps)\n",
    "\n",
    "    for i in range(1, steps+1):\n",
    "        prices[i] = uu*prices[i-1]\n",
    "\n",
    "    put_values = array.array('d', (0 for i in range(0, steps+1)))\n",
    "\n",
    "    for i in range(0, steps+1):\n",
    "        put_values[i] = max(0.0, (K-prices[i]))\n",
    "\n",
    "    for step in range(steps-1, -1, -1):\n",
    "        for i in range(0, step+1):\n",
    "            put_values[i] = (p_up*put_values[i+1]+p_down*put_values[i])/R\n",
    "            prices[i] = d*prices[i+1]\n",
    "            put_values[i] = max(put_values[i], (K-prices[i]))\n",
    "    return put_values[0]\n",
    "\n",
    "\n",
    "def european_put(S, K, r, sigma, T, steps):\n",
    "    R = (1+r)**(T/steps)\n",
    "    u = np.exp(sigma*np.sqrt(T/steps))\n",
    "    uu = u*u\n",
    "    d = 1.0/u\n",
    "    p_up = (R-d)/(u-d)\n",
    "    p_down = 1.0-p_up\n",
    "    prices = array.array('d', (0 for i in range(0, steps+1)))\n",
    "    prices[0] = S*pow(d, steps)\n",
    "\n",
    "    for i in range(1, steps+1):\n",
    "        prices[i] = uu*prices[i-1]\n",
    "\n",
    "    put_values = array.array('d', (0 for i in range(0, steps+1)))\n",
    "\n",
    "    for i in range(0, steps+1):\n",
    "        put_values[i] = max(0.0, (K-prices[i]))\n",
    "\n",
    "    for step in range(steps-1, -1, -1):\n",
    "        for i in range(0, step+1):\n",
    "            put_values[i] = (p_up*put_values[i+1]+p_down*put_values[i])/R\n",
    "            prices[i] = d*prices[i+1]\n",
    "    return put_values[0]\n",
    "\n",
    "\n",
    "def american_call(S, K, r, sigma, T, steps):\n",
    "    R = (1+r)**(T/steps)\n",
    "    u = np.exp(sigma*np.sqrt(T/steps))\n",
    "    d = 1.0/u\n",
    "    p_up = (R-d)/(u-d)\n",
    "    p_down = 1.0-p_up\n",
    "\n",
    "    prices = array.array('d', (0 for i in range(0, steps+1)))\n",
    "\n",
    "    prices[0] = S*pow(d, steps)\n",
    "    uu = u*u\n",
    "    for i in range(1, steps+1):\n",
    "        prices[i] = uu*prices[i-1]\n",
    "\n",
    "    call_values = array.array('d', (0 for i in range(0, steps+1)))\n",
    "    for i in range(0, steps+1):\n",
    "        call_values[i] = max(0.0, (prices[i]-K))\n",
    "\n",
    "    for step in range(steps-1, -1, -1):\n",
    "        for i in range(0, step+1):\n",
    "            call_values[i] = (p_up*call_values[i+1]+p_down*call_values[i])/R\n",
    "            prices[i] = d*prices[i+1]\n",
    "            call_values[i] = max(call_values[i], 1.0*(prices[i]-K))\n",
    "\n",
    "    return call_values[0]\n",
    "\n",
    "\n",
    "def european_call(S, K, r, sigma, T, steps):\n",
    "    R = (1+r)**(T/steps)\n",
    "    u = np.exp(sigma*np.sqrt(T/steps))\n",
    "    d = 1.0/u\n",
    "    p_up = (R-d)/(u-d)\n",
    "    p_down = 1.0-p_up\n",
    "\n",
    "    # price of underlying\n",
    "    prices = array.array('d', (0 for i in range(0, steps+1)))\n",
    "\n",
    "    # fill in the endnodes\n",
    "    prices[0] = S*pow(d, steps)\n",
    "    uu = u*u\n",
    "    for i in range(1, steps+1):\n",
    "        prices[i] = uu*prices[i-1]\n",
    "\n",
    "    call_values = array.array('d', (0 for i in range(0, steps+1)))\n",
    "    for i in range(0, steps+1):\n",
    "        call_values[i] = max(0.0, (prices[i]-K))\n",
    "\n",
    "    for step in range(steps-1, -1, -1):\n",
    "        for i in range(0, step+1):\n",
    "            call_values[i] = (p_up*call_values[i+1]+p_down*call_values[i])/R\n",
    "            prices[i] = d*prices[i+1]\n",
    "\n",
    "    return call_values[0]"
   ]
  },
  {
   "cell_type": "code",
   "execution_count": 41,
   "id": "54aab312",
   "metadata": {},
   "outputs": [],
   "source": [
    "SPY = pd.read_csv(\"SPY_options.csv\")\n",
    "zero_rate = pd.read_csv(\"zero_rates_20201201.csv\")"
   ]
  },
  {
   "cell_type": "code",
   "execution_count": 42,
   "id": "1bedd80a",
   "metadata": {},
   "outputs": [],
   "source": [
    "df = pd.DataFrame()"
   ]
  },
  {
   "cell_type": "code",
   "execution_count": 43,
   "id": "a864d82b",
   "metadata": {},
   "outputs": [],
   "source": [
    "SPY[\"date\"] = pd.to_datetime(SPY.date, format=\"%Y%m%d\")\n",
    "SPY[\"exdate\"] = pd.to_datetime(SPY.exdate, format=\"%Y%m%d\")"
   ]
  },
  {
   "cell_type": "code",
   "execution_count": 44,
   "id": "0e7fe490",
   "metadata": {},
   "outputs": [],
   "source": [
    "SPY[\"Time\"] = (SPY.exdate - SPY.date).dt.days\n",
    "SPY[\"rate\"] = y_inter(SPY[\"Time\"])/100"
   ]
  },
  {
   "cell_type": "code",
   "execution_count": 45,
   "id": "dd77bff5",
   "metadata": {},
   "outputs": [],
   "source": [
    "# Implied vol for american option\n",
    "\n",
    "def impliedVolatility(S, K, r, price, T, payoff):\n",
    "    try:\n",
    "        if (payoff == 'C'):\n",
    "            impliedVol = brentq(lambda x: price -\n",
    "                                 american_call(S, K, r, x, T,150),\n",
    "                                1e-12, 10.0)\n",
    "        elif (payoff == 'P'):\n",
    "            impliedVol = brentq(lambda x: price -\n",
    "                                american_put(S, K, r, x, T,150),\n",
    "                                1e-12, 10.0)\n",
    "        else:\n",
    "            raise NameError('Payoff type not recognized')\n",
    "    except Exception:\n",
    "        impliedVol = np.nan\n",
    "\n",
    "    return impliedVol\n",
    "\n",
    "\n"
   ]
  },
  {
   "cell_type": "markdown",
   "id": "b6e7056d",
   "metadata": {},
   "source": [
    "### T = 17, 45, 80"
   ]
  },
  {
   "cell_type": "code",
   "execution_count": 46,
   "id": "a45466c6",
   "metadata": {},
   "outputs": [],
   "source": [
    "SPY_S = 366.02"
   ]
  },
  {
   "cell_type": "code",
   "execution_count": 47,
   "id": "e63c2238",
   "metadata": {},
   "outputs": [],
   "source": [
    "SPY_F17 = np.exp(SPY[\"rate\"].unique()[0]*17/365)* SPY_S\n",
    "SPY_F45 = np.exp(SPY[\"rate\"].unique()[1]*45/365)* SPY_S\n",
    "SPY_F80 = np.exp(SPY[\"rate\"].unique()[2]*80/365)* SPY_S"
   ]
  },
  {
   "cell_type": "code",
   "execution_count": 48,
   "id": "1c927036",
   "metadata": {},
   "outputs": [
    {
     "name": "stderr",
     "output_type": "stream",
     "text": [
      "/var/folders/d0/wlsqxrb928v8l7k86q57sjcr0000gn/T/ipykernel_75527/2205437798.py:4: SettingWithCopyWarning: \n",
      "A value is trying to be set on a copy of a slice from a DataFrame.\n",
      "Try using .loc[row_indexer,col_indexer] = value instead\n",
      "\n",
      "See the caveats in the documentation: https://pandas.pydata.org/pandas-docs/stable/user_guide/indexing.html#returning-a-view-versus-a-copy\n",
      "  T_17[\"mid_price\"] = (T_17[\"best_bid\"] + T_17[\"best_offer\"])/2\n",
      "/var/folders/d0/wlsqxrb928v8l7k86q57sjcr0000gn/T/ipykernel_75527/2205437798.py:9: SettingWithCopyWarning: \n",
      "A value is trying to be set on a copy of a slice from a DataFrame.\n",
      "Try using .loc[row_indexer,col_indexer] = value instead\n",
      "\n",
      "See the caveats in the documentation: https://pandas.pydata.org/pandas-docs/stable/user_guide/indexing.html#returning-a-view-versus-a-copy\n",
      "  T_45[\"mid_price\"] = (T_45[\"best_bid\"] + T_45[\"best_offer\"])/2\n",
      "/var/folders/d0/wlsqxrb928v8l7k86q57sjcr0000gn/T/ipykernel_75527/2205437798.py:14: SettingWithCopyWarning: \n",
      "A value is trying to be set on a copy of a slice from a DataFrame.\n",
      "Try using .loc[row_indexer,col_indexer] = value instead\n",
      "\n",
      "See the caveats in the documentation: https://pandas.pydata.org/pandas-docs/stable/user_guide/indexing.html#returning-a-view-versus-a-copy\n",
      "  T_80[\"mid_price\"] = (T_80[\"best_bid\"] + T_80[\"best_offer\"])/2\n"
     ]
    }
   ],
   "source": [
    "# Data split for SPY \n",
    "\n",
    "T_17 = SPY[SPY.Time == 17]\n",
    "T_17[\"mid_price\"] = (T_17[\"best_bid\"] + T_17[\"best_offer\"])/2\n",
    "C_17 = T_17[T_17.cp_flag == \"C\"]\n",
    "P_17 = T_17[T_17.cp_flag == \"P\"]\n",
    "\n",
    "T_45 = SPY[SPY.Time == 45]\n",
    "T_45[\"mid_price\"] = (T_45[\"best_bid\"] + T_45[\"best_offer\"])/2\n",
    "C_45 = T_45[T_45.cp_flag == \"C\"]\n",
    "P_45 = T_45[T_45.cp_flag == \"P\"]\n",
    "\n",
    "T_80 = SPY[SPY.Time == 80]\n",
    "T_80[\"mid_price\"] = (T_80[\"best_bid\"] + T_80[\"best_offer\"])/2\n",
    "C_80 = T_80[T_80.cp_flag == \"C\"]\n",
    "P_80 = T_80[T_80.cp_flag == \"P\"]"
   ]
  },
  {
   "cell_type": "code",
   "execution_count": 49,
   "id": "d9517aa1",
   "metadata": {},
   "outputs": [],
   "source": [
    "df_P17 = P_17[P_17.strike_price/1000 < SPY_F17][[\"cp_flag\", \"strike_price\", \"best_offer\",\"rate\",\"mid_price\"]]\n",
    "df_C17 = C_17[C_17.strike_price/1000 > SPY_F17][[\"cp_flag\", \"strike_price\", \"best_offer\",\"rate\",\"mid_price\"]]\n",
    "\n",
    "df_P45 = P_45[P_45.strike_price/1000 < SPY_F45][[\"cp_flag\", \"strike_price\", \"best_offer\",\"rate\",\"mid_price\"]]\n",
    "df_C45 = C_45[C_45.strike_price/1000 > SPY_F45][[\"cp_flag\", \"strike_price\", \"best_offer\",\"rate\",\"mid_price\"]]\n",
    "\n",
    "df_P80 = P_80[P_80.strike_price/1000 < SPY_F80][[\"cp_flag\", \"strike_price\", \"best_offer\",\"rate\",\"mid_price\"]]\n",
    "df_C80 = C_80[C_80.strike_price/1000 > SPY_F80][[\"cp_flag\", \"strike_price\", \"best_offer\",\"rate\",\"mid_price\"]]"
   ]
  },
  {
   "cell_type": "code",
   "execution_count": 50,
   "id": "9020128d",
   "metadata": {},
   "outputs": [],
   "source": [
    "df_17 = pd.concat([df_P17, df_C17], ignore_index=True)\n",
    "df_17.strike_price = df_17.strike_price/1000\n",
    "\n",
    "df_45 = pd.concat([df_P45, df_C45], ignore_index=True)\n",
    "df_45.strike_price = df_45.strike_price/1000\n",
    "\n",
    "df_80 = pd.concat([df_P80, df_C80], ignore_index=True)\n",
    "df_80.strike_price = df_80.strike_price/1000"
   ]
  },
  {
   "cell_type": "code",
   "execution_count": 51,
   "id": "84ba9e36",
   "metadata": {},
   "outputs": [],
   "source": [
    "\n",
    "IV_17 = []\n",
    "r_17 = SPY[\"rate\"].unique()[0]\n",
    "T_17 = 17/365\n",
    "\n",
    "IV_45 = []\n",
    "r_45 = SPY[\"rate\"].unique()[1]\n",
    "T_45 = 45/365\n",
    "\n",
    "IV_80 = []\n",
    "r_80 = SPY[\"rate\"].unique()[2]\n",
    "T_80 = 80/365"
   ]
  },
  {
   "cell_type": "code",
   "execution_count": 52,
   "id": "637d2e08",
   "metadata": {},
   "outputs": [],
   "source": [
    "# Implied vol for SPY for t = 17\n",
    "\n",
    "for i in range(0,len(df_17)):\n",
    "    IV_17.append(impliedVolatility(SPY_S, df_17.strike_price[i], r_17, df_17.mid_price[i], T_17, df_17.cp_flag[i]))\n",
    "    "
   ]
  },
  {
   "cell_type": "code",
   "execution_count": 53,
   "id": "b85ed1dd",
   "metadata": {},
   "outputs": [],
   "source": [
    "# Implied vol for SPY for t = 45\n",
    "\n",
    "for i in range(0,len(df_45)):\n",
    "    IV_45.append(impliedVolatility(SPY_S, df_45.strike_price[i], r_45, df_45.mid_price[i], T_45, df_45.cp_flag[i]))"
   ]
  },
  {
   "cell_type": "code",
   "execution_count": 54,
   "id": "28402fec",
   "metadata": {},
   "outputs": [],
   "source": [
    "# Implied vol for SPY for t = 80\n",
    "\n",
    "for i in range(0,len(df_80)):\n",
    "    IV_80.append(impliedVolatility(SPY_S, df_80.strike_price[i], r_80, df_80.mid_price[i], T_80, df_80.cp_flag[i]))"
   ]
  },
  {
   "cell_type": "code",
   "execution_count": 55,
   "id": "86af52f3",
   "metadata": {},
   "outputs": [],
   "source": [
    "df_17[\"IV\"] = IV_17\n",
    "df_45[\"IV\"] = IV_45\n",
    "df_80[\"IV\"] = IV_80"
   ]
  },
  {
   "cell_type": "code",
   "execution_count": 56,
   "id": "7a99b31c",
   "metadata": {},
   "outputs": [
    {
     "data": {
      "text/plain": [
       "<matplotlib.legend.Legend at 0x7f7fcb986a90>"
      ]
     },
     "execution_count": 56,
     "metadata": {},
     "output_type": "execute_result"
    },
    {
     "data": {
      "image/png": "[encoded data removed]",
      "text/plain": [
       "<Figure size 576x432 with 1 Axes>"
      ]
     },
     "metadata": {
      "needs_background": "light"
     },
     "output_type": "display_data"
    }
   ],
   "source": [
    "# Volatility smile for SPY market data\n",
    "\n",
    "plt.figure(figsize = (8,6), tight_layout = True)\n",
    "plt.plot(df_17[\"strike_price\"], df_17[\"IV\"], 'gs', label= \"17 DAYS\")\n",
    "plt.plot(df_45[\"strike_price\"], df_45[\"IV\"], 'bs', label= \"45 DAYS\")\n",
    "plt.plot(df_80[\"strike_price\"], df_80[\"IV\"], 'rs', label= \"80 DAYS\")\n",
    "plt.ylabel(\"Implied Vol\")\n",
    "plt.xlabel(\"Strike\")\n",
    "plt.legend()"
   ]
  },
  {
   "cell_type": "markdown",
   "id": "607c39a2",
   "metadata": {},
   "source": [
    "## Diffused diffusion model calibration for SPY data"
   ]
  },
  {
   "cell_type": "code",
   "execution_count": 57,
   "id": "e2cf254c",
   "metadata": {},
   "outputs": [
    {
     "name": "stdout",
     "output_type": "stream",
     "text": [
      "Calibrated DDM model parameters: sigma = 0.193812, beta = 0.164709\n"
     ]
    }
   ],
   "source": [
    "# calibration for T = 17\n",
    "\n",
    "initialGuess = [0.1, 0.2]\n",
    "\n",
    "res = least_squares(lambda x: diffusedcalibration(x,\n",
    "                                             df_17[\"strike_price\"],\n",
    "                                             df_17[\"mid_price\"],\n",
    "                                             SPY_S,\n",
    "                                             r_17,\n",
    "                                             17/365,\n",
    "                                             df_17[\"cp_flag\"].values),\n",
    "                    initialGuess)\n",
    "\n",
    "s_ddm = res.x[0]\n",
    "b_ddm = res.x[1]\n",
    "\n",
    "print('Calibrated DDM model parameters: sigma = %.6f, beta = %.6f' % (s_ddm, b_ddm))"
   ]
  },
  {
   "cell_type": "code",
   "execution_count": 58,
   "id": "96e66ace",
   "metadata": {},
   "outputs": [
    {
     "data": {
      "image/png": "[encoded data removed]",
      "text/plain": [
       "<Figure size 576x432 with 1 Axes>"
      ]
     },
     "metadata": {
      "needs_background": "light"
     },
     "output_type": "display_data"
    }
   ],
   "source": [
    "# vol smile for t = 17\n",
    "\n",
    "ddmvols = []\n",
    "for i in range(len(df_17)):\n",
    "    \n",
    "    if (df_17[\"cp_flag\"][i] == \"C\"):\n",
    "        price_ddm = DisplacedDiffusion_Call(SPY_S, df_17[\"strike_price\"][i], r_17, s_ddm, T_17, b_ddm) \n",
    "        vol_ddm = impliedVolatility(SPY_S, df_17[\"strike_price\"][i], r_17, price_ddm, T_17, \"C\")\n",
    "        \n",
    "    elif (df_17[\"cp_flag\"][i] == \"P\"):\n",
    "        price_ddm = DisplacedDiffusion_Put(SPY_S, df_17[\"strike_price\"][i], r_17, s_ddm, T_17, b_ddm) \n",
    "        vol_ddm = impliedVolatility(SPY_S, df_17[\"strike_price\"][i], r_17, price_ddm, T_17, \"P\")\n",
    "        \n",
    "    \n",
    "    ddmvols.append(vol_ddm)\n",
    "\n",
    "plt.figure(figsize = (8,6), tight_layout = True)\n",
    "plt.plot(df_17[\"strike_price\"], df_17[\"IV\"], 'gs', label='Market Vols')\n",
    "plt.plot(df_17[\"strike_price\"], ddmvols, 'b--', label='Displaced Diffusion Model Vols')\n",
    "plt.ylabel(\"Implied Vol\")\n",
    "plt.xlabel(\"Strike\")\n",
    "plt.legend()\n",
    "plt.show()"
   ]
  },
  {
   "cell_type": "code",
   "execution_count": 59,
   "id": "6c1377db",
   "metadata": {},
   "outputs": [
    {
     "name": "stdout",
     "output_type": "stream",
     "text": [
      "Calibrated DDM model parameters: sigma = 0.194998, beta = 0.135367\n"
     ]
    }
   ],
   "source": [
    "# calibration for T = 45\n",
    "\n",
    "initialGuess = [0.1, 0.2]\n",
    "\n",
    "res = least_squares(lambda x: diffusedcalibration(x,\n",
    "                                             df_45[\"strike_price\"],\n",
    "                                             df_45[\"mid_price\"],\n",
    "                                             SPY_S,\n",
    "                                             r_45,\n",
    "                                             45/365,\n",
    "                                             df_45[\"cp_flag\"].values),\n",
    "                    initialGuess)\n",
    "\n",
    "s_ddm = res.x[0]\n",
    "b_ddm = res.x[1]\n",
    "\n",
    "print('Calibrated DDM model parameters: sigma = %.6f, beta = %.6f' % (s_ddm, b_ddm))"
   ]
  },
  {
   "cell_type": "code",
   "execution_count": 60,
   "id": "e52c084d",
   "metadata": {},
   "outputs": [
    {
     "data": {
      "image/png": "[encoded data removed]",
      "text/plain": [
       "<Figure size 576x432 with 1 Axes>"
      ]
     },
     "metadata": {
      "needs_background": "light"
     },
     "output_type": "display_data"
    }
   ],
   "source": [
    "# vol smile for t = 45\n",
    "\n",
    "ddmvols = []\n",
    "for i in range(len(df_45)):\n",
    "    \n",
    "    if (df_45[\"cp_flag\"][i] == \"C\"):\n",
    "        price_ddm = DisplacedDiffusion_Call(SPY_S, df_45[\"strike_price\"][i], r_45, s_ddm, T_45, b_ddm) \n",
    "        vol_ddm = impliedVolatility(SPY_S, df_45[\"strike_price\"][i], r_45, price_ddm, T_45, \"C\")\n",
    "        \n",
    "    elif (df_45[\"cp_flag\"][i] == \"P\"):\n",
    "        price_ddm = DisplacedDiffusion_Put(SPY_S, df_45[\"strike_price\"][i], r_45, s_ddm, T_45, b_ddm) \n",
    "        vol_ddm = impliedVolatility(SPY_S, df_45[\"strike_price\"][i], r_45, price_ddm, T_45, \"P\")\n",
    "        \n",
    "    \n",
    "    ddmvols.append(vol_ddm)\n",
    "\n",
    "plt.figure(figsize = (8,6), tight_layout = True)\n",
    "plt.plot(df_45[\"strike_price\"], df_45[\"IV\"], 'bs', label='Market Vols')\n",
    "plt.plot(df_45[\"strike_price\"], ddmvols, 'b--', label='Displaced Diffusion Model Vols')\n",
    "plt.ylabel(\"Implied Vol\")\n",
    "plt.xlabel(\"Strike\")\n",
    "plt.legend()\n",
    "plt.show()"
   ]
  },
  {
   "cell_type": "code",
   "execution_count": 61,
   "id": "dc7063a4",
   "metadata": {},
   "outputs": [
    {
     "name": "stdout",
     "output_type": "stream",
     "text": [
      "Calibrated DDM model parameters: sigma = 0.203706, beta = 0.106547\n"
     ]
    }
   ],
   "source": [
    "# calibration for T = 80\n",
    "initialGuess = [0.1, 0.2]\n",
    "\n",
    "res = least_squares(lambda x: diffusedcalibration(x,\n",
    "                                             df_80[\"strike_price\"],\n",
    "                                             df_80[\"mid_price\"],\n",
    "                                             SPY_S,\n",
    "                                             r_80,\n",
    "                                             80/365,\n",
    "                                             df_80[\"cp_flag\"].values),\n",
    "                    initialGuess)\n",
    "\n",
    "s_ddm = res.x[0]\n",
    "b_ddm = res.x[1]\n",
    "\n",
    "print('Calibrated DDM model parameters: sigma = %.6f, beta = %.6f' % (s_ddm, b_ddm))"
   ]
  },
  {
   "cell_type": "code",
   "execution_count": 62,
   "id": "ae964598",
   "metadata": {},
   "outputs": [
    {
     "data": {
      "image/png": "[encoded data removed]",
      "text/plain": [
       "<Figure size 576x432 with 1 Axes>"
      ]
     },
     "metadata": {
      "needs_background": "light"
     },
     "output_type": "display_data"
    }
   ],
   "source": [
    "# vol smile for t = 80\n",
    "\n",
    "ddmvols = []\n",
    "for i in range(len(df_80)):\n",
    "    \n",
    "    if (df_80[\"cp_flag\"][i] == \"C\"):\n",
    "        price_ddm = DisplacedDiffusion_Call(SPY_S, df_80[\"strike_price\"][i], r_80, s_ddm, T_80, b_ddm) \n",
    "        vol_ddm = impliedVolatility(SPY_S, df_80[\"strike_price\"][i], r_80, price_ddm, T_80, \"C\")\n",
    "        \n",
    "    elif (df_80[\"cp_flag\"][i] == \"P\"):\n",
    "        price_ddm = DisplacedDiffusion_Put(SPY_S, df_80[\"strike_price\"][i], r_80, s_ddm, T_80, b_ddm) \n",
    "        vol_ddm = impliedVolatility(SPY_S, df_80[\"strike_price\"][i], r_80, price_ddm, T_80, \"P\")\n",
    "        \n",
    "    \n",
    "    ddmvols.append(vol_ddm)\n",
    "\n",
    "plt.figure(figsize = (8,6), tight_layout = True)\n",
    "plt.plot(df_80[\"strike_price\"], df_80[\"IV\"], 'rs', label='Market Vols')\n",
    "plt.plot(df_80[\"strike_price\"], ddmvols, 'b--', label='Displaced Diffusion Model Vols')\n",
    "plt.ylabel(\"Implied Vol\")\n",
    "plt.xlabel(\"Strike\")\n",
    "plt.legend()\n",
    "plt.show()"
   ]
  },
  {
   "cell_type": "markdown",
   "id": "8fa43b97",
   "metadata": {},
   "source": [
    "## SABR model for SPY data"
   ]
  },
  {
   "cell_type": "code",
   "execution_count": 63,
   "id": "647ad695",
   "metadata": {},
   "outputs": [],
   "source": [
    "# calibration for T = 17\n",
    "initialGuess = [0.02, 0.2, 0.1]\n",
    "res = least_squares(lambda x: sabrcalibration(x,\n",
    "                                              df_17.strike_price,\n",
    "                                              df_17.IV,\n",
    "                                              SPY_F17,\n",
    "                                              T_17),\n",
    "                    initialGuess)"
   ]
  },
  {
   "cell_type": "code",
   "execution_count": 64,
   "id": "dbc59692",
   "metadata": {},
   "outputs": [
    {
     "name": "stdout",
     "output_type": "stream",
     "text": [
      "Calibrated SABR model parameters: alpha = 0.651, beta = 0.7, rho = -0.409, nu = 5.318\n"
     ]
    }
   ],
   "source": [
    "alpha = res.x[0]\n",
    "rho = res.x[1]\n",
    "nu = res.x[2]\n",
    "\n",
    "print('Calibrated SABR model parameters: alpha = %.3f, beta = %.1f, rho = %.3f, nu = %.3f' % (alpha, beta, rho, nu))"
   ]
  },
  {
   "cell_type": "code",
   "execution_count": 65,
   "id": "b74d66ff",
   "metadata": {},
   "outputs": [
    {
     "data": {
      "image/png": "[encoded data removed]",
      "text/plain": [
       "<Figure size 576x432 with 1 Axes>"
      ]
     },
     "metadata": {
      "needs_background": "light"
     },
     "output_type": "display_data"
    }
   ],
   "source": [
    "# vol smile for t = 17\n",
    "\n",
    "sabrvols = []\n",
    "for K in df_17.strike_price:\n",
    "    sabrvols.append(SABR(SPY_F17, K, T_17, alpha, beta, rho, nu))\n",
    "\n",
    "plt.figure(figsize = (8,6), tight_layout = True)\n",
    "plt.plot(df_17.strike_price, df_17.IV, 'gs', label='Market Vols')\n",
    "plt.plot(df_17.strike_price, sabrvols, 'm--', label='SABR Vols')\n",
    "plt.ylabel(\"Implied Vol\")\n",
    "plt.xlabel(\"Strike\")\n",
    "plt.legend()\n",
    "plt.show()"
   ]
  },
  {
   "cell_type": "code",
   "execution_count": 66,
   "id": "d063b1cb",
   "metadata": {},
   "outputs": [],
   "source": [
    "# calibration for T = 45\n",
    "initialGuess = [0.02, 0.2, 0.1]\n",
    "res = least_squares(lambda x: sabrcalibration(x,\n",
    "                                              df_45.strike_price,\n",
    "                                              df_45.IV,\n",
    "                                              SPY_F45,\n",
    "                                              T_45),\n",
    "                    initialGuess)"
   ]
  },
  {
   "cell_type": "code",
   "execution_count": 67,
   "id": "0f2f0e0f",
   "metadata": {},
   "outputs": [
    {
     "name": "stdout",
     "output_type": "stream",
     "text": [
      "Calibrated SABR model parameters: alpha = 0.899, beta = 0.7, rho = -0.486, nu = 2.763\n"
     ]
    }
   ],
   "source": [
    "alpha = res.x[0]\n",
    "rho = res.x[1]\n",
    "nu = res.x[2]\n",
    "\n",
    "print('Calibrated SABR model parameters: alpha = %.3f, beta = %.1f, rho = %.3f, nu = %.3f' % (alpha, beta, rho, nu))"
   ]
  },
  {
   "cell_type": "code",
   "execution_count": 68,
   "id": "a93ab72d",
   "metadata": {},
   "outputs": [
    {
     "data": {
      "image/png": "[encoded data removed]",
      "text/plain": [
       "<Figure size 576x432 with 1 Axes>"
      ]
     },
     "metadata": {
      "needs_background": "light"
     },
     "output_type": "display_data"
    }
   ],
   "source": [
    "# vol smile for t = 45\n",
    "\n",
    "sabrvols = []\n",
    "for K in df_45.strike_price:\n",
    "    sabrvols.append(SABR(SPY_F45, K, T_45, alpha, beta, rho, nu))\n",
    "\n",
    "plt.figure(figsize = (8,6), tight_layout = True)\n",
    "plt.plot(df_45.strike_price, df_45.IV, 'bs', label='Market Vols')\n",
    "plt.plot(df_45.strike_price, sabrvols, 'm--', label='SABR Vols')\n",
    "plt.ylabel(\"Implied Vol\")\n",
    "plt.xlabel(\"Strike\")\n",
    "plt.legend()\n",
    "plt.show()"
   ]
  },
  {
   "cell_type": "code",
   "execution_count": 69,
   "id": "540b3a91",
   "metadata": {},
   "outputs": [
    {
     "name": "stderr",
     "output_type": "stream",
     "text": [
      "/var/folders/d0/wlsqxrb928v8l7k86q57sjcr0000gn/T/ipykernel_75527/1833376684.py:14: RuntimeWarning: invalid value encountered in double_scalars\n",
      "  zhi = np.log((((1 - 2*rho*z + z*z)**0.5) + z - rho)/(1 - rho))\n"
     ]
    }
   ],
   "source": [
    "# for T = 80\n",
    "initialGuess = [0.02, 0.2, 0.1]\n",
    "res = least_squares(lambda x: sabrcalibration(x,\n",
    "                                              df_80.strike_price,\n",
    "                                              df_80.IV,\n",
    "                                              SPY_F80,\n",
    "                                              T_80),\n",
    "                    initialGuess)"
   ]
  },
  {
   "cell_type": "code",
   "execution_count": 70,
   "id": "0884b8bd",
   "metadata": {},
   "outputs": [
    {
     "name": "stdout",
     "output_type": "stream",
     "text": [
      "Calibrated SABR model parameters: alpha = 1.119, beta = 0.7, rho = -0.631, nu = 1.752\n"
     ]
    }
   ],
   "source": [
    "alpha = res.x[0]\n",
    "rho = res.x[1]\n",
    "nu = res.x[2]\n",
    "\n",
    "print('Calibrated SABR model parameters: alpha = %.3f, beta = %.1f, rho = %.3f, nu = %.3f' % (alpha, beta, rho, nu))"
   ]
  },
  {
   "cell_type": "code",
   "execution_count": 71,
   "id": "72481c95",
   "metadata": {},
   "outputs": [
    {
     "data": {
      "image/png": "[encoded data removed]",
      "text/plain": [
       "<Figure size 576x432 with 1 Axes>"
      ]
     },
     "metadata": {
      "needs_background": "light"
     },
     "output_type": "display_data"
    }
   ],
   "source": [
    "# vol smile for t = 80\n",
    "\n",
    "sabrvols = []\n",
    "for K in df_80.strike_price:\n",
    "    sabrvols.append(SABR(SPY_F80, K, T_80, alpha, beta, rho, nu))\n",
    "\n",
    "plt.figure(figsize = (8,6), tight_layout = True)\n",
    "plt.plot(df_80.strike_price, df_80.IV, 'rs', label='Market Vols')\n",
    "plt.plot(df_80.strike_price, sabrvols, 'm--', label='SABR Vols')\n",
    "plt.ylabel(\"Implied Vol\")\n",
    "plt.xlabel(\"Strike\")\n",
    "plt.legend()\n",
    "plt.show()"
   ]
  },
  {
   "cell_type": "code",
   "execution_count": null,
   "id": "cf446c74",
   "metadata": {},
   "outputs": [],
   "source": []
  }
 ],
 "metadata": {
  "kernelspec": {
   "display_name": "Python 3",
   "language": "python",
   "name": "python3"
  },
  "language_info": {
   "codemirror_mode": {
    "name": "ipython",
    "version": 3
   },
   "file_extension": ".py",
   "mimetype": "text/x-python",
   "name": "python",
   "nbconvert_exporter": "python",
   "pygments_lexer": "ipython3",
   "version": "3.8.8"
  }
 },
 "nbformat": 4,
 "nbformat_minor": 5
}
